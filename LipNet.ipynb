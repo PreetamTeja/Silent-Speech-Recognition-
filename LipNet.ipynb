{
 "cells": [
  {
   "cell_type": "markdown",
   "id": "a3573a47-3689-4668-b62f-5c8451b2b4e9",
   "metadata": {
    "tags": []
   },
   "source": [
    "# 0. Install and Import Dependencies"
   ]
  },
  {
   "cell_type": "code",
   "execution_count": 1,
   "id": "b24af50c-20b8-409d-ad78-30a933fdd669",
   "metadata": {
    "tags": []
   },
   "outputs": [],
   "source": [
    "import os\n",
    "import cv2\n",
    "import torch\n",
    "import numpy as np\n",
    "from typing import List,Tuple\n",
    "import matplotlib.pyplot as plt\n",
    "import imageio\n"
   ]
  },
  {
   "cell_type": "code",
   "execution_count": 2,
   "id": "91b53fcf",
   "metadata": {},
   "outputs": [
    {
     "name": "stdout",
     "output_type": "stream",
     "text": [
      "Using device: cuda\n"
     ]
    }
   ],
   "source": [
    "# Check if GPU is available and set device\n",
    "device = torch.device(\"cuda\" if torch.cuda.is_available() else \"cpu\")\n",
    "print(f\"Using device: {device}\")\n"
   ]
  },
  {
   "cell_type": "markdown",
   "id": "7a19e88e-c7b9-45c1-ae1e-f2109329c71b",
   "metadata": {
    "tags": []
   },
   "source": [
    "# 1. Build Data Loading Functions"
   ]
  },
  {
   "cell_type": "code",
   "execution_count": 3,
   "id": "88f7ca0e",
   "metadata": {},
   "outputs": [],
   "source": [
    "def load_video(path: str) -> torch.Tensor:\n",
    "    cap = cv2.VideoCapture(path)\n",
    "    frames = []\n",
    "    \n",
    "    # Read all frames from the video\n",
    "    for _ in range(int(cap.get(cv2.CAP_PROP_FRAME_COUNT))):\n",
    "        ret, frame = cap.read()\n",
    "        if not ret:\n",
    "            break\n",
    "        # Convert to grayscale\n",
    "        frame = cv2.cvtColor(frame, cv2.COLOR_BGR2GRAY)\n",
    "        frame = frame[190:236, 80:220]  # Cropping the frame\n",
    "        frames.append(frame)\n",
    "    \n",
    "    cap.release()\n",
    "    \n",
    "    # Convert frames to a Torch tensor and normalize\n",
    "    frames = torch.tensor(frames, dtype=torch.float32)\n",
    "    mean = frames.mean()\n",
    "    std = frames.std()\n",
    "    frames = (frames - mean) / std  # Standardize frames\n",
    "    return frames\n"
   ]
  },
  {
   "cell_type": "code",
   "execution_count": 4,
   "id": "ec735e0b-ec98-4eb0-8f49-c35527d6670a",
   "metadata": {
    "tags": []
   },
   "outputs": [
    {
     "name": "stdout",
     "output_type": "stream",
     "text": [
      "The vocabulary is: ['a', 'b', 'c', 'd', 'e', 'f', 'g', 'h', 'i', 'j', 'k', 'l', 'm', 'n', 'o', 'p', 'q', 'r', 's', 't', 'u', 'v', 'w', 'x', 'y', 'z', \"'\", '?', '!', '1', '2', '3', '4', '5', '6', '7', '8', '9', ' '] (size = 39)\n",
      "Character to number: [13, 8, 2, 10]\n",
      "Number to character: ['o', 'j', 'd', 'l']\n"
     ]
    }
   ],
   "source": [
    "# Define the vocabulary\n",
    "vocab = [x for x in \"abcdefghijklmnopqrstuvwxyz'?!123456789 \"]\n",
    "vocab_size = len(vocab)\n",
    "\n",
    "# Create mappings: character to index and index to character\n",
    "char_to_num = {char: idx for idx, char in enumerate(vocab)}\n",
    "num_to_char = {idx: char for idx, char in enumerate(vocab)}\n",
    "\n",
    "print(f\"The vocabulary is: {vocab} (size = {vocab_size})\")\n",
    "\n",
    "# Example usage: converting characters to numbers\n",
    "example_chars = ['n', 'i', 'c', 'k']\n",
    "example_nums = [char_to_num[char] for char in example_chars]\n",
    "print(\"Character to number:\", example_nums)\n",
    "\n",
    "# Example usage: converting numbers back to characters\n",
    "example_indices = [14, 9, 3, 11]\n",
    "example_chars_back = [num_to_char[idx] for idx in example_indices]\n",
    "print(\"Number to character:\", example_chars_back)\n"
   ]
  },
  {
   "cell_type": "code",
   "execution_count": 5,
   "id": "be04e972-d7a5-4a72-82d8-a6bdde1f3ce6",
   "metadata": {
    "tags": []
   },
   "outputs": [],
   "source": [
    "def load_alignments(path: str) -> List[int]:\n",
    "    with open(path, 'r') as f:\n",
    "        lines = f.readlines()\n",
    "    \n",
    "    tokens = []\n",
    "    for line in lines:\n",
    "        line = line.split()\n",
    "        if line[2] != 'sil':\n",
    "            tokens.extend([' ', line[2]])  # Extend the list with space and the word\n",
    "    \n",
    "    # Convert tokens to numbers using our char_to_num mapping\n",
    "    alignment_numbers = [char_to_num[char] for char in ''.join(tokens).strip()]\n",
    "    return alignment_numbers\n",
    "\n",
    "def load_data(path: str):\n",
    "    # Decode the path and get the file name\n",
    "    file_name = path.split('\\\\')[-1].split('.')[0]\n",
    "    video_path = os.path.join('data', 's1', f'{file_name}.mpg')\n",
    "    alignment_path = os.path.join('data', 'alignments', 's1', f'{file_name}.align')\n",
    "    \n",
    "    # Load video frames and alignments\n",
    "    frames = load_video(video_path)\n",
    "    alignments = load_alignments(alignment_path)\n",
    "    \n",
    "    return frames, alignments\n"
   ]
  },
  {
   "cell_type": "code",
   "execution_count": 6,
   "id": "559f7420-6802-45fa-9ca0-b1ff209b461c",
   "metadata": {
    "tags": []
   },
   "outputs": [
    {
     "name": "stderr",
     "output_type": "stream",
     "text": [
      "C:\\Users\\preet\\AppData\\Local\\Temp\\ipykernel_19144\\3419181741.py:18: UserWarning: Creating a tensor from a list of numpy.ndarrays is extremely slow. Please consider converting the list to a single numpy.ndarray with numpy.array() before converting to a tensor. (Triggered internally at C:\\actions-runner\\_work\\pytorch\\pytorch\\builder\\windows\\pytorch\\torch\\csrc\\utils\\tensor_new.cpp:281.)\n",
      "  frames = torch.tensor(frames, dtype=torch.float32)\n"
     ]
    },
    {
     "data": {
      "image/png": "[encoded data removed]",
      "text/plain": [
       "<Figure size 640x480 with 1 Axes>"
      ]
     },
     "metadata": {},
     "output_type": "display_data"
    },
    {
     "name": "stdout",
     "output_type": "stream",
     "text": [
      "Alignments (numeric): [1, 8, 13, 38, 1, 11, 20, 4, 38, 0, 19, 38, 11, 38, 18, 8, 23, 38, 13, 14, 22]\n",
      "Alignments (characters): bin blue at l six now\n"
     ]
    }
   ],
   "source": [
    "import matplotlib.pyplot as plt\n",
    "\n",
    "# Test path for visualization\n",
    "test_path = '.\\\\data\\\\s1\\\\bbal6n.mpg'\n",
    "\n",
    "# Load frames and alignments using the load_data function\n",
    "frames, alignments = load_data(test_path)\n",
    "\n",
    "# Visualize a specific frame (e.g., the 40th frame)\n",
    "plt.imshow(frames[40], cmap='gray')\n",
    "plt.show()\n",
    "\n",
    "# Print alignments\n",
    "print(\"Alignments (numeric):\", alignments)\n",
    "\n",
    "# Convert alignments from numbers to characters\n",
    "alignment_chars = ''.join([num_to_char[num] for num in alignments])\n",
    "print(\"Alignments (characters):\", alignment_chars)\n"
   ]
  },
  {
   "cell_type": "markdown",
   "id": "c40a7eb4-0c3e-4eab-9291-5611cb68ce08",
   "metadata": {
    "tags": []
   },
   "source": [
    "# 2. Create Data Pipeline"
   ]
  },
  {
   "cell_type": "code",
   "execution_count": 7,
   "id": "f066fea2-91b1-42ed-a67d-00566a1a53ff",
   "metadata": {
    "tags": []
   },
   "outputs": [],
   "source": [
    "from torch.utils.data import Dataset, DataLoader\n",
    "import glob\n",
    "import random\n",
    "\n",
    "# Custom Dataset class for PyTorch\n",
    "class LipReadingDataset(Dataset):\n",
    "    def __init__(self, file_paths):\n",
    "        self.file_paths = file_paths\n",
    "    def __len__(self):\n",
    "        return len(self.file_paths)\n",
    "\n",
    "    def __getitem__(self, idx):\n",
    "        path = self.file_paths[idx]\n",
    "        frames, alignments = load_data(path)\n",
    "        return torch.tensor(frames, dtype=torch.float32), torch.tensor(alignments, dtype=torch.long)\n",
    "\n",
    "# List all video files\n",
    "file_paths = glob.glob('.\\\\data\\\\s1\\\\*.mpg')\n",
    "random.shuffle(file_paths)\n",
    "\n",
    "# Split into training and testing\n",
    "train_paths = file_paths[:450]\n",
    "test_paths = file_paths[450:]\n",
    "\n",
    "# Create datasets\n",
    "train_dataset = LipReadingDataset(train_paths)\n",
    "test_dataset = LipReadingDataset(test_paths)\n",
    "\n",
    "# Create DataLoaders\n",
    "train_loader = DataLoader(train_dataset, batch_size=1, shuffle=True,pin_memory=True)\n",
    "test_loader = DataLoader(test_dataset, batch_size=1, shuffle=False,pin_memory=True)"
   ]
  },
  {
   "cell_type": "markdown",
   "id": "0f47733c-83bc-465c-b118-b198b492ad37",
   "metadata": {
    "tags": []
   },
   "source": [
    "# 3. Design the Deep Neural Network"
   ]
  },
  {
   "cell_type": "code",
   "execution_count": 8,
   "id": "d8e9a497-191b-4842-afbd-26f5e13c43ba",
   "metadata": {
    "tags": []
   },
   "outputs": [
    {
     "name": "stdout",
     "output_type": "stream",
     "text": [
      "LipReadingModel(\n",
      "  (conv3d_1): Conv3d(1, 128, kernel_size=(3, 3, 3), stride=(1, 1, 1), padding=(1, 1, 1))\n",
      "  (relu): ReLU()\n",
      "  (maxpool3d_1): MaxPool3d(kernel_size=(1, 2, 2), stride=(1, 2, 2), padding=0, dilation=1, ceil_mode=False)\n",
      "  (conv3d_2): Conv3d(128, 256, kernel_size=(3, 3, 3), stride=(1, 1, 1), padding=(1, 1, 1))\n",
      "  (maxpool3d_2): MaxPool3d(kernel_size=(1, 2, 2), stride=(1, 2, 2), padding=0, dilation=1, ceil_mode=False)\n",
      "  (conv3d_3): Conv3d(256, 75, kernel_size=(3, 3, 3), stride=(1, 1, 1), padding=(1, 1, 1))\n",
      "  (maxpool3d_3): MaxPool3d(kernel_size=(1, 2, 2), stride=(1, 2, 2), padding=0, dilation=1, ceil_mode=False)\n",
      "  (lstm_1): LSTM(6375, 128, batch_first=True, bidirectional=True)\n",
      "  (dropout_1): Dropout(p=0.5, inplace=False)\n",
      "  (lstm_2): LSTM(256, 128, batch_first=True, bidirectional=True)\n",
      "  (dropout_2): Dropout(p=0.5, inplace=False)\n",
      "  (fc): Linear(in_features=256, out_features=40, bias=True)\n",
      ")\n"
     ]
    }
   ],
   "source": [
    "import torch\n",
    "import torch.nn as nn\n",
    "\n",
    "class LipReadingModel(nn.Module):\n",
    "    def __init__(self, vocab_size):\n",
    "        super(LipReadingModel, self).__init__()\n",
    "        # 3D Convolutional layers\n",
    "        self.conv3d_1 = nn.Conv3d(1, 128, kernel_size=(3, 3, 3), padding=(1, 1, 1))\n",
    "        self.relu = nn.ReLU()\n",
    "        self.maxpool3d_1 = nn.MaxPool3d(kernel_size=(1, 2, 2))\n",
    "\n",
    "        self.conv3d_2 = nn.Conv3d(128, 256, kernel_size=(3, 3, 3), padding=(1, 1, 1))\n",
    "        self.maxpool3d_2 = nn.MaxPool3d(kernel_size=(1, 2, 2))\n",
    "\n",
    "        self.conv3d_3 = nn.Conv3d(256, 75, kernel_size=(3, 3, 3), padding=(1, 1, 1))\n",
    "        self.maxpool3d_3 = nn.MaxPool3d(kernel_size=(1, 2, 2))\n",
    "\n",
    "        # Bi-directional LSTM layers\n",
    "        self.lstm_1 = nn.LSTM(6375, 128, num_layers=1, batch_first=True, bidirectional=True)\n",
    "        self.dropout_1 = nn.Dropout(0.5)\n",
    "\n",
    "        self.lstm_2 = nn.LSTM(256, 128, num_layers=1, batch_first=True, bidirectional=True)\n",
    "        self.dropout_2 = nn.Dropout(0.5)\n",
    "\n",
    "        # Fully connected layer\n",
    "        self.fc = nn.Linear(256, vocab_size + 1)  # +1 for CTC blank token\n",
    "\n",
    "    def forward(self, x):\n",
    "        # x shape: (batch_size, channels, depth, height, width)\n",
    "        x = self.relu(self.conv3d_1(x))\n",
    "        x = self.maxpool3d_1(x)\n",
    "\n",
    "        x = self.relu(self.conv3d_2(x))\n",
    "        x = self.maxpool3d_2(x)\n",
    "\n",
    "        x = self.relu(self.conv3d_3(x))\n",
    "        x = self.maxpool3d_3(x)\n",
    "\n",
    "        # Flatten the features for LSTM input\n",
    "        batch_size, channels, depth, height, width = x.size()\n",
    "        x = x.view(batch_size, depth, channels * height * width)  # (batch_size, depth, features)\n",
    "\n",
    "        # BiLSTM layers\n",
    "        x, _ = self.lstm_1(x)\n",
    "        x = self.dropout_1(x)\n",
    "\n",
    "        x, _ = self.lstm_2(x)\n",
    "        x = self.dropout_2(x)\n",
    "\n",
    "        # Fully connected layer\n",
    "        x = self.fc(x)\n",
    "        return x\n",
    "\n",
    "# Example usage\n",
    "vocab_size = len(vocab)\n",
    "model = LipReadingModel(vocab_size)\n",
    "model = model.to(device)  # Move the model to GPU if available\n",
    "print(model)\n"
   ]
  },
  {
   "cell_type": "code",
   "execution_count": 9,
   "id": "e5c2eae0-c359-41a4-97a0-75c44dccb7d1",
   "metadata": {
    "tags": []
   },
   "outputs": [],
   "source": [
    "import torch\n",
    "import torch.nn as nn\n",
    "import torch.optim as optim\n",
    "\n",
    "# Define the CTC Loss function as in the original notebook\n",
    "# 'blank=0' for the CTC blank token, 'reduction' is set to 'mean' as typically done for loss averaging.\n",
    "ctc_loss_fn = nn.CTCLoss(blank=0, reduction='mean', zero_infinity=True)\n",
    "\n",
    "# Define the optimizer\n",
    "# Assuming 'model' is already defined elsewhere in your code\n",
    "torch.manual_seed(42)  # For reproducibility\n",
    "optimizer = optim.Adam(model.parameters(), lr=0.0001)\n",
    "\n",
    "# Optional: Learning Rate Scheduler\n",
    "# Exponential decay of the learning rate\n",
    "scheduler = optim.lr_scheduler.ExponentialLR(optimizer, gamma=0.9)  # gamma is the decay factor\n",
    "\n",
    "# Usage in your training loop\n",
    "def compute_loss(ctc_output, ctc_targets, input_lengths, target_lengths):\n",
    "    # Compute the CTC loss, where ctc_output is of shape (T, N, C)\n",
    "    # ctc_targets is a flattened tensor of target labels for the entire batch\n",
    "    # input_lengths and target_lengths are 1D tensors indicating the lengths of each input and target respectively\n",
    "    ctc_loss = ctc_loss_fn(ctc_output, ctc_targets, input_lengths, target_lengths)\n",
    "    return ctc_loss\n",
    "\n"
   ]
  },
  {
   "cell_type": "markdown",
   "id": "2ec02176-5c26-46c3-aff7-8352e6563c7d",
   "metadata": {
    "tags": []
   },
   "source": [
    "# 4. Setup Training Options and Train"
   ]
  },
  {
   "cell_type": "code",
   "execution_count": null,
   "id": "8ffba483-aa61-4bbe-a15f-a73e1ddf097c",
   "metadata": {
    "tags": []
   },
   "outputs": [
    {
     "name": "stderr",
     "output_type": "stream",
     "text": [
      "Epoch 1/100:   0%|          | 0/450 [00:00<?, ?batch/s]C:\\Users\\preet\\AppData\\Local\\Temp\\ipykernel_3312\\2377108712.py:15: UserWarning: To copy construct from a tensor, it is recommended to use sourceTensor.clone().detach() or sourceTensor.clone().detach().requires_grad_(True), rather than torch.tensor(sourceTensor).\n",
      "  return torch.tensor(frames, dtype=torch.float32), torch.tensor(alignments, dtype=torch.long)\n",
      "Epoch 1/100:  33%|███▎      | 148/450 [01:01<01:52,  2.69batch/s, loss=1.77] "
     ]
    }
   ],
   "source": [
    "import torch\n",
    "import torch.nn as nn\n",
    "import torch.optim as optim\n",
    "from tqdm import tqdm\n",
    "from jiwer import wer  # Import jiwer for WER calculation\n",
    "\n",
    "# Training loop\n",
    "num_epochs = 100  # Adjust as needed\n",
    "model.train()  # Set the model to training mode\n",
    "\n",
    "with open(\"validation_results.txt\", \"w\") as log_file:\n",
    "    for epoch in range(num_epochs):\n",
    "        try:\n",
    "            epoch_loss = 0  # Track the total loss for the epoch\n",
    "\n",
    "            with tqdm(train_loader, unit=\"batch\") as progress_bar:\n",
    "                progress_bar.set_description(f\"Epoch {epoch + 1}/{num_epochs}\")\n",
    "\n",
    "                for batch in progress_bar:\n",
    "                    frames, alignments = batch\n",
    "                    frames = frames[0].to(device)  # Move frames to the device (single video sequence)\n",
    "                    alignments = alignments[0].to(device)  # Move alignments to the device (single sequence)\n",
    "\n",
    "                    frames = frames.unsqueeze(0).unsqueeze(1)  # (batch_size=1, channels=1, depth, height, width)\n",
    "                    input_length = torch.tensor([frames.size(2)], dtype=torch.long).to(device)\n",
    "                    target_length = torch.tensor([len(alignments)], dtype=torch.long).to(device)\n",
    "\n",
    "                    optimizer.zero_grad()\n",
    "                    outputs = model(frames)  # Outputs shape: (batch_size, seq_length, num_classes)\n",
    "                    outputs = outputs.permute(1, 0, 2)  # (seq_length, batch_size, num_classes)\n",
    "\n",
    "                    # Compute the CTC loss using the provided compute_loss function\n",
    "                    loss = compute_loss(outputs, alignments, input_length, target_length)\n",
    "                    loss.backward()\n",
    "                    optimizer.step()\n",
    "\n",
    "                    epoch_loss += loss.item()\n",
    "                    progress_bar.set_postfix(loss=loss.item())\n",
    "\n",
    "            # Learning rate scheduler step (if using)\n",
    "            scheduler.step()\n",
    "\n",
    "            avg_epoch_loss = epoch_loss / len(train_loader)\n",
    "            print(f\"Epoch {epoch + 1}/{num_epochs}, Loss: {avg_epoch_loss}\")\n",
    "\n",
    "            # Save the model weights after every epoch (overwrite the same file)\n",
    "            torch.save(model.state_dict(), \"lip_reading_model_weights.pth\")\n",
    "            print(f\"Model weights updated and saved.\")\n",
    "\n",
    "            # Validate the model every 5 epochs\n",
    "            if (epoch + 1) % 5 == 0:\n",
    "                model.eval()\n",
    "                val_loss = 0\n",
    "                all_predictions = []\n",
    "                all_references = []\n",
    "\n",
    "                with torch.no_grad():\n",
    "                    for val_batch in test_loader:\n",
    "                        val_frames, val_alignments = val_batch\n",
    "                        val_frames = val_frames[0].to(device)\n",
    "                        val_alignments = val_alignments[0].to(device)\n",
    "\n",
    "                        val_frames = val_frames.unsqueeze(0).unsqueeze(1)\n",
    "                        val_input_length = torch.tensor([val_frames.size(2)], dtype=torch.long).to(device)\n",
    "                        val_target_length = torch.tensor([len(val_alignments)], dtype=torch.long).to(device)\n",
    "\n",
    "                        val_outputs = model(val_frames)\n",
    "                        val_outputs = val_outputs.permute(1, 0, 2)\n",
    "                        val_loss += compute_loss(val_outputs, val_alignments, val_input_length, val_target_length).item()\n",
    "\n",
    "                        predicted_indices = torch.argmax(val_outputs, dim=-1).squeeze().tolist()\n",
    "                        predicted_text = ''.join([num_to_char[i] for i in predicted_indices if i != 0])\n",
    "                        true_text = ''.join([num_to_char[i] for i in val_alignments.cpu().numpy()])\n",
    "\n",
    "                        all_predictions.append(predicted_text)\n",
    "                        all_references.append(true_text)\n",
    "\n",
    "                        log_file.write(f\"Epoch {epoch + 1}\\n\")\n",
    "                        log_file.write(f\"Prediction: {predicted_text}\\n\")\n",
    "                        log_file.write(f\"Label: {true_text}\\n\")\n",
    "                        log_file.write(\"\\n\")\n",
    "\n",
    "                avg_val_loss = val_loss / len(test_loader)\n",
    "                print(f\"Validation Loss at Epoch {epoch + 1}: {avg_val_loss}\")\n",
    "\n",
    "                wer_value = wer(all_references, all_predictions)\n",
    "                print(f\"Word Error Rate (WER) at Epoch {epoch + 1}: {wer_value}\")\n",
    "\n",
    "                print(\"\\nSample Predictions and Labels:\")\n",
    "                for i in range(min(5, len(all_predictions))):\n",
    "                    print(f\"Prediction: {all_predictions[i]}\")\n",
    "                    print(f\"Label: {all_references[i]}\\n\")\n",
    "\n",
    "                model.train()\n",
    "\n",
    "        except Exception as e:\n",
    "            print(f\"Error during epoch {epoch + 1}: {e}\")\n",
    "            break\n"
   ]
  },
  {
   "cell_type": "markdown",
   "id": "b5bda642",
   "metadata": {},
   "source": [
    "# Prediction and Testing\n"
   ]
  },
  {
   "cell_type": "code",
   "execution_count": 10,
   "id": "9894874c",
   "metadata": {},
   "outputs": [
    {
     "name": "stderr",
     "output_type": "stream",
     "text": [
      "C:\\Users\\preet\\AppData\\Local\\Temp\\ipykernel_19144\\1026220533.py:8: FutureWarning: You are using `torch.load` with `weights_only=False` (the current default value), which uses the default pickle module implicitly. It is possible to construct malicious pickle data which will execute arbitrary code during unpickling (See https://github.com/pytorch/pytorch/blob/main/SECURITY.md#untrusted-models for more details). In a future release, the default value for `weights_only` will be flipped to `True`. This limits the functions that could be executed during unpickling. Arbitrary objects will no longer be allowed to be loaded via this mode unless they are explicitly allowlisted by the user via `torch.serialization.add_safe_globals`. We recommend you start setting `weights_only=True` for any use case where you don't have full control of the loaded file. Please open an issue on GitHub for any issues related to this experimental feature.\n",
      "  state_dict = torch.load(f, map_location=device)\n"
     ]
    },
    {
     "ename": "RuntimeError",
     "evalue": "Error(s) in loading state_dict for LipReadingModel:\n\tMissing key(s) in state_dict: \"conv3d_1.weight\", \"conv3d_1.bias\", \"conv3d_2.weight\", \"conv3d_2.bias\", \"conv3d_3.weight\", \"conv3d_3.bias\", \"lstm_1.weight_ih_l0\", \"lstm_1.weight_hh_l0\", \"lstm_1.bias_ih_l0\", \"lstm_1.bias_hh_l0\", \"lstm_1.weight_ih_l0_reverse\", \"lstm_1.weight_hh_l0_reverse\", \"lstm_1.bias_ih_l0_reverse\", \"lstm_1.bias_hh_l0_reverse\", \"lstm_2.weight_ih_l0\", \"lstm_2.weight_hh_l0\", \"lstm_2.bias_ih_l0\", \"lstm_2.bias_hh_l0\", \"lstm_2.weight_ih_l0_reverse\", \"lstm_2.weight_hh_l0_reverse\", \"lstm_2.bias_ih_l0_reverse\", \"lstm_2.bias_hh_l0_reverse\", \"fc.weight\", \"fc.bias\". \n\tUnexpected key(s) in state_dict: \"conv1.weight\", \"conv1.bias\", \"conv2.weight\", \"conv2.bias\", \"conv3.weight\", \"conv3.bias\", \"gru1.weight_ih_l0\", \"gru1.weight_hh_l0\", \"gru1.bias_ih_l0\", \"gru1.bias_hh_l0\", \"gru1.weight_ih_l0_reverse\", \"gru1.weight_hh_l0_reverse\", \"gru1.bias_ih_l0_reverse\", \"gru1.bias_hh_l0_reverse\", \"gru2.weight_ih_l0\", \"gru2.weight_hh_l0\", \"gru2.bias_ih_l0\", \"gru2.bias_hh_l0\", \"gru2.weight_ih_l0_reverse\", \"gru2.weight_hh_l0_reverse\", \"gru2.bias_ih_l0_reverse\", \"gru2.bias_hh_l0_reverse\", \"FC.weight\", \"FC.bias\", \"coord_gru.weight_ih_l0\", \"coord_gru.weight_hh_l0\", \"coord_gru.bias_ih_l0\", \"coord_gru.bias_hh_l0\", \"coord_gru.weight_ih_l0_reverse\", \"coord_gru.weight_hh_l0_reverse\", \"coord_gru.bias_ih_l0_reverse\", \"coord_gru.bias_hh_l0_reverse\". ",
     "output_type": "error",
     "traceback": [
      "\u001b[1;31m---------------------------------------------------------------------------\u001b[0m",
      "\u001b[1;31mRuntimeError\u001b[0m                              Traceback (most recent call last)",
      "Cell \u001b[1;32mIn[10], line 81\u001b[0m\n\u001b[0;32m     79\u001b[0m \u001b[38;5;66;03m# Load the pre-trained weights from the pickle file\u001b[39;00m\n\u001b[0;32m     80\u001b[0m weight_path \u001b[38;5;241m=\u001b[39m \u001b[38;5;124m\"\u001b[39m\u001b[38;5;124mD:\u001b[39m\u001b[38;5;124m\\\u001b[39m\u001b[38;5;124mPython Code\u001b[39m\u001b[38;5;124m\\\u001b[39m\u001b[38;5;124mLipCoordNet_coords_loss_0.025581153109669685_wer_0.01746208431890914_cer_0.006488426950253695.pt\u001b[39m\u001b[38;5;124m\"\u001b[39m\n\u001b[1;32m---> 81\u001b[0m \u001b[43mload_model_weights\u001b[49m\u001b[43m(\u001b[49m\u001b[43mmodel\u001b[49m\u001b[43m,\u001b[49m\u001b[43m \u001b[49m\u001b[43mweight_path\u001b[49m\u001b[43m,\u001b[49m\u001b[43m \u001b[49m\u001b[43mdevice\u001b[49m\u001b[43m)\u001b[49m\n\u001b[0;32m     83\u001b[0m \u001b[38;5;66;03m# Path to the video and .align file\u001b[39;00m\n\u001b[0;32m     84\u001b[0m video_path \u001b[38;5;241m=\u001b[39m \u001b[38;5;124m\"\u001b[39m\u001b[38;5;124mD:\u001b[39m\u001b[38;5;124m\\\u001b[39m\u001b[38;5;124mPython Code\u001b[39m\u001b[38;5;124m\\\u001b[39m\u001b[38;5;124mdata\u001b[39m\u001b[38;5;124m\\\u001b[39m\u001b[38;5;124ms1\u001b[39m\u001b[38;5;124m\\\u001b[39m\u001b[38;5;124msrbb4n.mpg\u001b[39m\u001b[38;5;124m\"\u001b[39m\n",
      "Cell \u001b[1;32mIn[10], line 9\u001b[0m, in \u001b[0;36mload_model_weights\u001b[1;34m(model, weight_path, device)\u001b[0m\n\u001b[0;32m      7\u001b[0m \u001b[38;5;28;01mwith\u001b[39;00m \u001b[38;5;28mopen\u001b[39m(weight_path, \u001b[38;5;124m'\u001b[39m\u001b[38;5;124mrb\u001b[39m\u001b[38;5;124m'\u001b[39m) \u001b[38;5;28;01mas\u001b[39;00m f:\n\u001b[0;32m      8\u001b[0m     state_dict \u001b[38;5;241m=\u001b[39m torch\u001b[38;5;241m.\u001b[39mload(f, map_location\u001b[38;5;241m=\u001b[39mdevice)\n\u001b[1;32m----> 9\u001b[0m \u001b[43mmodel\u001b[49m\u001b[38;5;241;43m.\u001b[39;49m\u001b[43mload_state_dict\u001b[49m\u001b[43m(\u001b[49m\u001b[43mstate_dict\u001b[49m\u001b[43m)\u001b[49m\n\u001b[0;32m     10\u001b[0m model\u001b[38;5;241m.\u001b[39mto(device)\n\u001b[0;32m     11\u001b[0m model\u001b[38;5;241m.\u001b[39meval()\n",
      "File \u001b[1;32md:\\Python Code\\.venv\\lib\\site-packages\\torch\\nn\\modules\\module.py:2584\u001b[0m, in \u001b[0;36mModule.load_state_dict\u001b[1;34m(self, state_dict, strict, assign)\u001b[0m\n\u001b[0;32m   2576\u001b[0m         error_msgs\u001b[38;5;241m.\u001b[39minsert(\n\u001b[0;32m   2577\u001b[0m             \u001b[38;5;241m0\u001b[39m,\n\u001b[0;32m   2578\u001b[0m             \u001b[38;5;124m\"\u001b[39m\u001b[38;5;124mMissing key(s) in state_dict: \u001b[39m\u001b[38;5;132;01m{}\u001b[39;00m\u001b[38;5;124m. \u001b[39m\u001b[38;5;124m\"\u001b[39m\u001b[38;5;241m.\u001b[39mformat(\n\u001b[0;32m   2579\u001b[0m                 \u001b[38;5;124m\"\u001b[39m\u001b[38;5;124m, \u001b[39m\u001b[38;5;124m\"\u001b[39m\u001b[38;5;241m.\u001b[39mjoin(\u001b[38;5;124mf\u001b[39m\u001b[38;5;124m'\u001b[39m\u001b[38;5;124m\"\u001b[39m\u001b[38;5;132;01m{\u001b[39;00mk\u001b[38;5;132;01m}\u001b[39;00m\u001b[38;5;124m\"\u001b[39m\u001b[38;5;124m'\u001b[39m \u001b[38;5;28;01mfor\u001b[39;00m k \u001b[38;5;129;01min\u001b[39;00m missing_keys)\n\u001b[0;32m   2580\u001b[0m             ),\n\u001b[0;32m   2581\u001b[0m         )\n\u001b[0;32m   2583\u001b[0m \u001b[38;5;28;01mif\u001b[39;00m \u001b[38;5;28mlen\u001b[39m(error_msgs) \u001b[38;5;241m>\u001b[39m \u001b[38;5;241m0\u001b[39m:\n\u001b[1;32m-> 2584\u001b[0m     \u001b[38;5;28;01mraise\u001b[39;00m \u001b[38;5;167;01mRuntimeError\u001b[39;00m(\n\u001b[0;32m   2585\u001b[0m         \u001b[38;5;124m\"\u001b[39m\u001b[38;5;124mError(s) in loading state_dict for \u001b[39m\u001b[38;5;132;01m{}\u001b[39;00m\u001b[38;5;124m:\u001b[39m\u001b[38;5;130;01m\\n\u001b[39;00m\u001b[38;5;130;01m\\t\u001b[39;00m\u001b[38;5;132;01m{}\u001b[39;00m\u001b[38;5;124m\"\u001b[39m\u001b[38;5;241m.\u001b[39mformat(\n\u001b[0;32m   2586\u001b[0m             \u001b[38;5;28mself\u001b[39m\u001b[38;5;241m.\u001b[39m\u001b[38;5;18m__class__\u001b[39m\u001b[38;5;241m.\u001b[39m\u001b[38;5;18m__name__\u001b[39m, \u001b[38;5;124m\"\u001b[39m\u001b[38;5;130;01m\\n\u001b[39;00m\u001b[38;5;130;01m\\t\u001b[39;00m\u001b[38;5;124m\"\u001b[39m\u001b[38;5;241m.\u001b[39mjoin(error_msgs)\n\u001b[0;32m   2587\u001b[0m         )\n\u001b[0;32m   2588\u001b[0m     )\n\u001b[0;32m   2589\u001b[0m \u001b[38;5;28;01mreturn\u001b[39;00m _IncompatibleKeys(missing_keys, unexpected_keys)\n",
      "\u001b[1;31mRuntimeError\u001b[0m: Error(s) in loading state_dict for LipReadingModel:\n\tMissing key(s) in state_dict: \"conv3d_1.weight\", \"conv3d_1.bias\", \"conv3d_2.weight\", \"conv3d_2.bias\", \"conv3d_3.weight\", \"conv3d_3.bias\", \"lstm_1.weight_ih_l0\", \"lstm_1.weight_hh_l0\", \"lstm_1.bias_ih_l0\", \"lstm_1.bias_hh_l0\", \"lstm_1.weight_ih_l0_reverse\", \"lstm_1.weight_hh_l0_reverse\", \"lstm_1.bias_ih_l0_reverse\", \"lstm_1.bias_hh_l0_reverse\", \"lstm_2.weight_ih_l0\", \"lstm_2.weight_hh_l0\", \"lstm_2.bias_ih_l0\", \"lstm_2.bias_hh_l0\", \"lstm_2.weight_ih_l0_reverse\", \"lstm_2.weight_hh_l0_reverse\", \"lstm_2.bias_ih_l0_reverse\", \"lstm_2.bias_hh_l0_reverse\", \"fc.weight\", \"fc.bias\". \n\tUnexpected key(s) in state_dict: \"conv1.weight\", \"conv1.bias\", \"conv2.weight\", \"conv2.bias\", \"conv3.weight\", \"conv3.bias\", \"gru1.weight_ih_l0\", \"gru1.weight_hh_l0\", \"gru1.bias_ih_l0\", \"gru1.bias_hh_l0\", \"gru1.weight_ih_l0_reverse\", \"gru1.weight_hh_l0_reverse\", \"gru1.bias_ih_l0_reverse\", \"gru1.bias_hh_l0_reverse\", \"gru2.weight_ih_l0\", \"gru2.weight_hh_l0\", \"gru2.bias_ih_l0\", \"gru2.bias_hh_l0\", \"gru2.weight_ih_l0_reverse\", \"gru2.weight_hh_l0_reverse\", \"gru2.bias_ih_l0_reverse\", \"gru2.bias_hh_l0_reverse\", \"FC.weight\", \"FC.bias\", \"coord_gru.weight_ih_l0\", \"coord_gru.weight_hh_l0\", \"coord_gru.bias_ih_l0\", \"coord_gru.bias_hh_l0\", \"coord_gru.weight_ih_l0_reverse\", \"coord_gru.weight_hh_l0_reverse\", \"coord_gru.bias_ih_l0_reverse\", \"coord_gru.bias_hh_l0_reverse\". "
     ]
    }
   ],
   "source": [
    "import torch\n",
    "import cv2\n",
    "import os\n",
    "\n",
    "# Load the trained model\n",
    "def load_model_weights(model, weight_path, device):\n",
    "    with open(weight_path, 'rb') as f:\n",
    "        state_dict = torch.load(f, map_location=device)\n",
    "    model.load_state_dict(state_dict)\n",
    "    model.to(device)\n",
    "    model.eval()  # Set the model to evaluation mode\n",
    "\n",
    "# Function to preprocess the video\n",
    "def preprocess_video(video_path, device):\n",
    "    cap = cv2.VideoCapture(video_path)\n",
    "    frames = []\n",
    "\n",
    "    while cap.isOpened():\n",
    "        ret, frame = cap.read()\n",
    "        if not ret:\n",
    "            break\n",
    "        frame = cv2.cvtColor(frame, cv2.COLOR_BGR2GRAY)  # Convert to grayscale\n",
    "        frame = frame[190:236, 80:220]  # Crop to focus on the mouth region\n",
    "        frames.append(frame)\n",
    "\n",
    "    cap.release()\n",
    "\n",
    "    # Convert frames to a Torch tensor and normalize\n",
    "    frames = torch.tensor(frames, dtype=torch.float32)  # Shape: (depth, height, width)\n",
    "    frames = frames.unsqueeze(1)  # Add channel dimension: (depth, 1, height, width)\n",
    "    \n",
    "    # Normalize the frames\n",
    "    mean = frames.mean()\n",
    "    std = frames.std()\n",
    "    frames = (frames - mean) / std  # Standardize frames\n",
    "\n",
    "    # Rearrange dimensions to (batch_size, channels, depth, height, width)\n",
    "    frames = frames.permute(1, 0, 2, 3).unsqueeze(0).to(device)  # (1, 1, depth, height, width)\n",
    "    return frames\n",
    "\n",
    "# Function to extract lip coordinates from a .align file\n",
    "def extract_lip_coordinates(align_path):\n",
    "    coordinates = []\n",
    "    with open(align_path, 'r') as f:\n",
    "        for line in f:\n",
    "            values = line.strip().split()\n",
    "            if len(values) == 1:  # If the line has a single value, it may represent a coordinate\n",
    "                coordinates.append(float(values[0]))\n",
    "    return torch.tensor(coordinates, dtype=torch.float32)\n",
    "\n",
    "# Function to make predictions using the model\n",
    "def predict(video_path, align_path, model, device):\n",
    "    # Preprocess the input video\n",
    "    frames = preprocess_video(video_path, device)\n",
    "    # Load lip coordinates\n",
    "    lip_coordinates = extract_lip_coordinates(align_path).to(device)\n",
    "\n",
    "    # Combine frames and lip coordinates if needed\n",
    "    # Note: Modify this section based on how your model uses lip coordinates\n",
    "    inputs = (frames, lip_coordinates.unsqueeze(0))  # Add batch dimension to coordinates\n",
    "\n",
    "    # Make predictions with no gradient computation\n",
    "    with torch.no_grad():\n",
    "        outputs = model(*inputs)  # Forward pass through the model\n",
    "        outputs = outputs.permute(1, 0, 2)  # Reshape for CTC decoding: (seq_length, batch_size, num_classes)\n",
    "\n",
    "    # Get the predicted character indices\n",
    "    predicted_indices = torch.argmax(outputs, dim=-1).squeeze().tolist()\n",
    "\n",
    "    # Decode the indices into characters\n",
    "    predicted_text = ''.join([num_to_char[i] for i in predicted_indices if i != 0])\n",
    "    return predicted_text\n",
    "\n",
    "# Load the model and set it to the correct device\n",
    "device = torch.device(\"cuda\" if torch.cuda.is_available() else \"cpu\")\n",
    "vocab_size = len(vocab)  # Ensure vocab is defined\n",
    "model = LipReadingModel(vocab_size=vocab_size)  # Replace with your model class\n",
    "\n",
    "# Load the pre-trained weights from the pickle file\n",
    "weight_path = \"D:\\Python Code\\LipCoordNet_coords_loss_0.025581153109669685_wer_0.01746208431890914_cer_0.006488426950253695.pt\"\n",
    "load_model_weights(model, weight_path, device)\n",
    "\n",
    "# Path to the video and .align file\n",
    "video_path = \"D:\\Python Code\\data\\s1\\srbb4n.mpg\"\n",
    "align_path = \"D:\\Python Code\\data\\alignments\\s1\\srbb4n.mpg\"\n",
    "\n",
    "# Make predictions\n",
    "predicted_text = predict(video_path, align_path, model, device)\n",
    "print(\"Predicted Text:\", predicted_text)\n"
   ]
  },
  {
   "cell_type": "code",
   "execution_count": null,
   "id": "02a40635",
   "metadata": {},
   "outputs": [],
   "source": []
  }
 ],
 "metadata": {
  "kernelspec": {
   "display_name": ".venv",
   "language": "python",
   "name": "python3"
  },
  "language_info": {
   "codemirror_mode": {
    "name": "ipython",
    "version": 3
   },
   "file_extension": ".py",
   "mimetype": "text/x-python",
   "name": "python",
   "nbconvert_exporter": "python",
   "pygments_lexer": "ipython3",
   "version": "3.10.11"
  }
 },
 "nbformat": 4,
 "nbformat_minor": 5
}
